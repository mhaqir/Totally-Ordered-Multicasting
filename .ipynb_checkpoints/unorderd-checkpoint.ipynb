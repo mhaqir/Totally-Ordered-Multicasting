{
 "cells": [
  {
   "cell_type": "code",
   "execution_count": 107,
   "metadata": {},
   "outputs": [
    {
     "name": "stdout",
     "output_type": "stream",
     "text": [
      "Overwriting broker.py\n"
     ]
    }
   ],
   "source": [
    "%%writefile broker.py\n",
    "# Simple request-reply broker\n",
    "#\n",
    "# Author: Lev Givon <lev(at)columbia(dot)edu>\n",
    "\n",
    "import zmq\n",
    "\n",
    "# Prepare our context and sockets\n",
    "context = zmq.Context()\n",
    "router = context.socket(zmq.ROUTER)\n",
    "# backend = context.socket(zmq.DEALER)\n",
    "router.bind(\"tcp://*:5562\")\n",
    "# backend.bind(\"tcp://*:5563\")\n",
    "\n",
    "# Initialize poll set\n",
    "poller = zmq.Poller()\n",
    "poller.register(router, zmq.POLLIN)\n",
    "# poller.register(backend, zmq.POLLIN)\n",
    "\n",
    "# Switch messages between sockets\n",
    "while True:\n",
    "    socks = dict(poller.poll())\n",
    "\n",
    "    if socks.get(router) == zmq.POLLIN:\n",
    "        req_addr, empty, rep_addr, message = router.recv_multipart()\n",
    "        print(req_addr)\n",
    "        print(rep_addr)\n",
    "        print(message)\n",
    "        router.send_multipart([rep_addr, b\"\", message])\n",
    "\n",
    "#     if socks.get(backend) == zmq.POLLIN:\n",
    "#         message = backend.recv_multipart()\n",
    "#         frontend.send_multipart( message)"
   ]
  },
  {
   "cell_type": "code",
   "execution_count": 126,
   "metadata": {},
   "outputs": [
    {
     "name": "stdout",
     "output_type": "stream",
     "text": [
      "Overwriting c1.py\n"
     ]
    }
   ],
   "source": [
    "%%writefile c1.py\n",
    "\n",
    "import zmq\n",
    "import random\n",
    "import time\n",
    "\n",
    "context = zmq.Context()\n",
    "\n",
    "consumer_deal = context.socket(zmq.DEALER)\n",
    "consumer_deal.setsockopt(zmq.IDENTITY, b\"c1\")\n",
    "consumer_deal.connect(\"tcp://localhost:5562\")\n",
    "\n",
    "\n",
    "# consumer_rep = context.socket(zmq.REP)\n",
    "# consumer_rep.connect(\"tcp://localhost:5563\")\n",
    "\n",
    "# client_id = random.randrange(1,10005)\n",
    "# Do 10 requests, waiting each time for a response \n",
    "for request in range (1,10):\n",
    "    print(\"Sending request \", request,\"...\")\n",
    "    consumer_deal.send_multipart([b\"\", b\"c3\", b\"HELLO1\"])\n",
    "    print(\"sent!\")\n",
    "    time.sleep(1)\n",
    "    # Get the reply.\n",
    "    data = consumer_deal.recv_multipart()\n",
    "\n",
    "    print(\"Received reply \", request, \"[\", data, \"]\")"
   ]
  },
  {
   "cell_type": "code",
   "execution_count": 130,
   "metadata": {},
   "outputs": [
    {
     "name": "stdout",
     "output_type": "stream",
     "text": [
      "Overwriting c2.py\n"
     ]
    }
   ],
   "source": [
    "%%writefile c2.py\n",
    "\n",
    "import zmq\n",
    "import random\n",
    "import time\n",
    "\n",
    "context = zmq.Context()\n",
    "\n",
    "consumer_deal = context.socket(zmq.DEALER)\n",
    "consumer_deal.setsockopt(zmq.IDENTITY, b\"c2\")\n",
    "consumer_deal.connect(\"tcp://localhost:5562\")\n",
    "\n",
    "\n",
    "# consumer_rep = context.socket(zmq.REP)\n",
    "# consumer_rep.connect(\"tcp://localhost:5563\")\n",
    "\n",
    "# client_id = random.randrange(1,10005)\n",
    "# Do 10 requests, waiting each time for a response \n",
    "for request in range (1,10):\n",
    "    print(\"Sending request \", request,\"...\")\n",
    "    consumer_deal.send_multipart([b\"\", b\"c4\", b\"HELLO2\"])\n",
    "    print(\"sent!\")\n",
    "    time.sleep(1)\n",
    "    # Get the reply.\n",
    "    data = consumer_deal.recv_multipart()\n",
    "\n",
    "    print(\"Received reply \", request, \"[\", data, \"]\")"
   ]
  },
  {
   "cell_type": "code",
   "execution_count": 131,
   "metadata": {},
   "outputs": [
    {
     "name": "stdout",
     "output_type": "stream",
     "text": [
      "Overwriting c3.py\n"
     ]
    }
   ],
   "source": [
    "%%writefile c3.py\n",
    "\n",
    "import zmq\n",
    "import random\n",
    "import time\n",
    "\n",
    "context = zmq.Context()\n",
    "\n",
    "# consumer_req = context.socket(zmq.REQ)\n",
    "# consumer_req.setsockopt(zmq.IDENTITY, b\"c3\")\n",
    "# consumer_req.connect(\"tcp://localhost:5562\")\n",
    "\n",
    "\n",
    "#consumer_rep = context.socket(zmq.REP)\n",
    "consumer_deal = context.socket(zmq.DEALER)\n",
    "consumer_deal.setsockopt(zmq.IDENTITY, b\"c3\")\n",
    "consumer_deal.connect(\"tcp://localhost:5562\")\n",
    "\n",
    "\n",
    "\n",
    "client_id = random.randrange(1,10005)\n",
    "\n",
    "while True:\n",
    "    #  Wait for next request from client\n",
    "    print(\"Receiving...\")\n",
    "    data = consumer_deal.recv_multipart()\n",
    "\n",
    "\n",
    "    print (\"Received request: \", data)\n",
    "    time.sleep (3)\n",
    "    consumer_deal.send_multipart([b\"\",b\"c1\", b\"World3\"])\n",
    "#     consumer_rep.send_multipart([b\"\",b\"c2\", b\"World3\"])\n"
   ]
  },
  {
   "cell_type": "code",
   "execution_count": 132,
   "metadata": {},
   "outputs": [
    {
     "name": "stdout",
     "output_type": "stream",
     "text": [
      "Overwriting c4.py\n"
     ]
    }
   ],
   "source": [
    "%%writefile c4.py\n",
    "\n",
    "import zmq\n",
    "import random\n",
    "import time\n",
    "\n",
    "context = zmq.Context()\n",
    "\n",
    "# consumer_req = context.socket(zmq.REQ)\n",
    "# consumer_req.setsockopt(zmq.IDENTITY, b\"c4\")\n",
    "# consumer_req.connect(\"tcp://localhost:5562\")\n",
    "\n",
    "\n",
    "#consumer_rep = context.socket(zmq.REP)\n",
    "consumer_deal = context.socket(zmq.DEALER)\n",
    "consumer_deal.setsockopt(zmq.IDENTITY, b\"c4\")\n",
    "consumer_deal.connect(\"tcp://localhost:5562\")\n",
    "\n",
    "\n",
    "# client_id = random.randrange(1,10005)\n",
    "\n",
    "while True:\n",
    "    #  Wait for next request from client\n",
    "    print(\"Receiving...\")\n",
    "    data = consumer_deal.recv_multipart()\n",
    "\n",
    "\n",
    "    print (\"Received request: \", data)\n",
    "    time.sleep (3)\n",
    "    consumer_deal.send_multipart([b\"\", b\"c2\", b\"World4\"])"
   ]
  },
  {
   "cell_type": "code",
   "execution_count": null,
   "metadata": {},
   "outputs": [],
   "source": []
  }
 ],
 "metadata": {
  "kernelspec": {
   "display_name": "Python 3",
   "language": "python",
   "name": "python3"
  },
  "language_info": {
   "codemirror_mode": {
    "name": "ipython",
    "version": 3
   },
   "file_extension": ".py",
   "mimetype": "text/x-python",
   "name": "python",
   "nbconvert_exporter": "python",
   "pygments_lexer": "ipython3",
   "version": "3.7.1"
  }
 },
 "nbformat": 4,
 "nbformat_minor": 2
}
